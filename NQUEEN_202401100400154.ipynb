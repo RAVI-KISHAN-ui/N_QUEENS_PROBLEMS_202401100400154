{
  "nbformat": 4,
  "nbformat_minor": 0,
  "metadata": {
    "colab": {
      "provenance": []
    },
    "kernelspec": {
      "name": "python3",
      "display_name": "Python 3"
    },
    "language_info": {
      "name": "python"
    }
  },
  "cells": [
    {
      "cell_type": "code",
      "execution_count": 1,
      "metadata": {
        "colab": {
          "base_uri": "https://localhost:8080/"
        },
        "id": "PHV6XH9XO1Zc",
        "outputId": "479fad08-13b6-45fc-f06f-045f0f8c69c8"
      },
      "outputs": [
        {
          "output_type": "stream",
          "name": "stdout",
          "text": [
            ".Q..\n",
            "...Q\n",
            "Q...\n",
            "..Q. \n",
            "\n",
            "..Q.\n",
            "Q...\n",
            "...Q\n",
            ".Q.. \n",
            "\n"
          ]
        }
      ],
      "source": [
        "def solve_n_queens(n):\n",
        "    \"\"\"\n",
        "    Solves the N-Queens problem and returns all possible solutions.\n",
        "    Each solution is represented as a list of strings, where 'Q' marks a queen and '.' marks an empty space.\n",
        "    \"\"\"\n",
        "\n",
        "    def backtrack(row, cols, diag1, diag2, board):\n",
        "        \"\"\"\n",
        "        Recursive backtracking function to place queens row by row.\n",
        "\n",
        "        Args:\n",
        "        - row: The current row being processed.\n",
        "        - cols: A set tracking occupied columns.\n",
        "        - diag1: A set tracking occupied major diagonals (row - col).\n",
        "        - diag2: A set tracking occupied minor diagonals (row + col).\n",
        "        - board: The current board state.\n",
        "        \"\"\"\n",
        "\n",
        "        if row == n:  # Base case: all rows are filled, valid solution found\n",
        "            solutions.append([\"\".join(r) for r in board])  # Store board configuration\n",
        "            return\n",
        "\n",
        "        for col in range(n):  # Try placing a queen in each column\n",
        "            if col in cols or (row - col) in diag1 or (row + col) in diag2:\n",
        "                continue  # Skip if this position is under attack\n",
        "\n",
        "            # Place queen\n",
        "            board[row][col] = 'Q'\n",
        "\n",
        "            # Recurse to the next row with updated constraints\n",
        "            backtrack(row + 1, cols | {col}, diag1 | {row - col}, diag2 | {row + col}, board)\n",
        "\n",
        "            # Remove queen (backtrack)\n",
        "            board[row][col] = '.'\n",
        "\n",
        "    # Initialize variables\n",
        "    solutions = []  # Stores all valid solutions\n",
        "    board = [[\".\"] * n for _ in range(n)]  # Create an empty NxN chessboard\n",
        "\n",
        "    # Start backtracking from the first row\n",
        "    backtrack(0, set(), set(), set(), board)\n",
        "\n",
        "    return solutions  # Return all solutions\n",
        "\n",
        "# Example usage\n",
        "for sol in solve_n_queens(4):\n",
        "    print(\"\\n\".join(sol), \"\\n\")\n"
      ]
    }
  ]
}